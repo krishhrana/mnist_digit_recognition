{
 "cells": [
  {
   "cell_type": "code",
   "execution_count": 1,
   "metadata": {},
   "outputs": [
    {
     "name": "stderr",
     "output_type": "stream",
     "text": [
      "Using TensorFlow backend.\n"
     ]
    }
   ],
   "source": [
    "import pandas as pd\n",
    "import os\n",
    "import tensorflow as tf\n",
    "from tensorflow.keras.utils import to_categorical\n",
    "from sklearn.model_selection import train_test_split\n",
    "import keras\n",
    "from keras.models import Model\n",
    "from keras.layers import *\n",
    "from keras import optimizers"
   ]
  },
  {
   "cell_type": "code",
   "execution_count": 12,
   "metadata": {},
   "outputs": [],
   "source": [
    "df_test=pd.read_csv(\"/Users/krishrana/Python/mnist-in-csv/test.csv\")\n",
    "df_train=pd.read_csv(\"/Users/krishrana/Python/mnist-in-csv/train.csv\")\n",
    "\n",
    "labels=df_train.iloc[:, 0]\n",
    "features=df_train.iloc[:, 1:785]\n",
    "test=df_test.iloc[:, 0:784]"
   ]
  },
  {
   "cell_type": "code",
   "execution_count": 19,
   "metadata": {},
   "outputs": [
    {
     "name": "stdout",
     "output_type": "stream",
     "text": [
      "(42000, 28, 28, 1)\n",
      "(28000, 28, 28, 1)\n"
     ]
    }
   ],
   "source": [
    "features=np.array(features)\n",
    "features=features.reshape(42000, 28, 28, 1)\n",
    "labels=np.array(labels)\n",
    "test=np.array(test).reshape(28000, 28, 28,1)\n",
    "\n",
    "features = features.astype('float32')\n",
    "test= test.astype('float32')\n",
    "print(features.shape)\n",
    "print(test.shape)"
   ]
  },
  {
   "cell_type": "code",
   "execution_count": 20,
   "metadata": {},
   "outputs": [],
   "source": [
    "import tensorflow as tf\n",
    "from tensorflow.keras.models import Sequential\n",
    "from tensorflow.keras.layers import Dense, Dropout, Activation, Flatten\n",
    "from tensorflow.keras.layers import Conv2D, MaxPooling2D\n",
    "from tensorflow.keras.utils import to_categorical"
   ]
  },
  {
   "cell_type": "code",
   "execution_count": 38,
   "metadata": {},
   "outputs": [
    {
     "name": "stdout",
     "output_type": "stream",
     "text": [
      "[[[1. 0. 0. ... 0. 0. 0.]\n",
      "  [0. 1. 0. ... 0. 0. 0.]\n",
      "  [1. 0. 0. ... 0. 0. 0.]\n",
      "  ...\n",
      "  [1. 0. 0. ... 0. 0. 0.]\n",
      "  [1. 0. 0. ... 0. 0. 0.]\n",
      "  [1. 0. 0. ... 0. 0. 0.]]\n",
      "\n",
      " [[0. 1. 0. ... 0. 0. 0.]\n",
      "  [1. 0. 0. ... 0. 0. 0.]\n",
      "  [1. 0. 0. ... 0. 0. 0.]\n",
      "  ...\n",
      "  [1. 0. 0. ... 0. 0. 0.]\n",
      "  [1. 0. 0. ... 0. 0. 0.]\n",
      "  [1. 0. 0. ... 0. 0. 0.]]\n",
      "\n",
      " [[1. 0. 0. ... 0. 0. 0.]\n",
      "  [0. 1. 0. ... 0. 0. 0.]\n",
      "  [1. 0. 0. ... 0. 0. 0.]\n",
      "  ...\n",
      "  [1. 0. 0. ... 0. 0. 0.]\n",
      "  [1. 0. 0. ... 0. 0. 0.]\n",
      "  [1. 0. 0. ... 0. 0. 0.]]\n",
      "\n",
      " ...\n",
      "\n",
      " [[1. 0. 0. ... 0. 0. 0.]\n",
      "  [1. 0. 0. ... 0. 0. 0.]\n",
      "  [1. 0. 0. ... 0. 0. 0.]\n",
      "  ...\n",
      "  [0. 1. 0. ... 0. 0. 0.]\n",
      "  [1. 0. 0. ... 0. 0. 0.]\n",
      "  [1. 0. 0. ... 0. 0. 0.]]\n",
      "\n",
      " [[1. 0. 0. ... 0. 0. 0.]\n",
      "  [1. 0. 0. ... 0. 0. 0.]\n",
      "  [1. 0. 0. ... 0. 0. 0.]\n",
      "  ...\n",
      "  [1. 0. 0. ... 0. 0. 0.]\n",
      "  [1. 0. 0. ... 0. 0. 0.]\n",
      "  [1. 0. 0. ... 0. 0. 0.]]\n",
      "\n",
      " [[1. 0. 0. ... 0. 0. 0.]\n",
      "  [1. 0. 0. ... 0. 0. 0.]\n",
      "  [1. 0. 0. ... 0. 0. 0.]\n",
      "  ...\n",
      "  [1. 0. 0. ... 0. 0. 0.]\n",
      "  [1. 0. 0. ... 0. 0. 0.]\n",
      "  [0. 1. 0. ... 0. 0. 0.]]]\n"
     ]
    }
   ],
   "source": [
    "features = features/255\n",
    "test = test/255\n",
    "\n",
    "labels=to_categorical(labels, num_classes=10)\n",
    "print(labels)"
   ]
  },
  {
   "cell_type": "code",
   "execution_count": 26,
   "metadata": {},
   "outputs": [
    {
     "name": "stdout",
     "output_type": "stream",
     "text": [
      "Model: \"sequential_6\"\n",
      "_________________________________________________________________\n",
      "Layer (type)                 Output Shape              Param #   \n",
      "=================================================================\n",
      "conv2d_6 (Conv2D)            (None, 26, 26, 32)        320       \n",
      "_________________________________________________________________\n",
      "max_pooling2d_3 (MaxPooling2 (None, 13, 13, 32)        0         \n",
      "_________________________________________________________________\n",
      "conv2d_7 (Conv2D)            (None, 11, 11, 64)        18496     \n",
      "_________________________________________________________________\n",
      "max_pooling2d_4 (MaxPooling2 (None, 5, 5, 64)          0         \n",
      "_________________________________________________________________\n",
      "conv2d_8 (Conv2D)            (None, 3, 3, 128)         73856     \n",
      "_________________________________________________________________\n",
      "max_pooling2d_5 (MaxPooling2 (None, 1, 1, 128)         0         \n",
      "_________________________________________________________________\n",
      "flatten_1 (Flatten)          (None, 128)               0         \n",
      "_________________________________________________________________\n",
      "dense_3 (Dense)              (None, 500)               64500     \n",
      "_________________________________________________________________\n",
      "activation_3 (Activation)    (None, 500)               0         \n",
      "_________________________________________________________________\n",
      "dropout_2 (Dropout)          (None, 500)               0         \n",
      "_________________________________________________________________\n",
      "dense_4 (Dense)              (None, 200)               100200    \n",
      "_________________________________________________________________\n",
      "activation_4 (Activation)    (None, 200)               0         \n",
      "_________________________________________________________________\n",
      "dropout_3 (Dropout)          (None, 200)               0         \n",
      "_________________________________________________________________\n",
      "dense_5 (Dense)              (None, 10)                2010      \n",
      "_________________________________________________________________\n",
      "activation_5 (Activation)    (None, 10)                0         \n",
      "=================================================================\n",
      "Total params: 259,382\n",
      "Trainable params: 259,382\n",
      "Non-trainable params: 0\n",
      "_________________________________________________________________\n"
     ]
    }
   ],
   "source": [
    "model=Sequential()\n",
    "model.add(Conv2D(32, (3,3), activation='relu', input_shape=(features.shape[1:])))\n",
    "#model.add(Conv2D(32, (3,3), activation='relu'))\n",
    "model.add(MaxPooling2D(2,2))\n",
    "\n",
    "model.add(Conv2D(64, (3,3), activation='relu'))\n",
    "#model.add(Conv2D(64, (3,3), activation='relu'))\n",
    "model.add(MaxPooling2D(2,2))\n",
    "\n",
    "model.add(Conv2D(128, (3,3), activation='relu'))\n",
    "#model.add(Conv2D(128, (3,3), activation='relu'))\n",
    "model.add(MaxPooling2D(2,2))\n",
    "\n",
    "model.add(Flatten())\n",
    "model.add(Dense(500))\n",
    "model.add(Activation('relu'))\n",
    "model.add(Dropout(0.25))\n",
    "model.add(Dense(200))\n",
    "model.add(Activation('relu'))\n",
    "model.add(Dropout(0.25))\n",
    "model.add(Dense(10))\n",
    "model.add(Activation('softmax'))\n",
    "model.summary()"
   ]
  },
  {
   "cell_type": "code",
   "execution_count": 27,
   "metadata": {},
   "outputs": [],
   "source": [
    "epochs=25\n",
    "batch_size=32\n",
    "adam=optimizers.Adam(lr=0.01)"
   ]
  },
  {
   "cell_type": "code",
   "execution_count": 28,
   "metadata": {},
   "outputs": [],
   "source": [
    "model.compile(loss='categorical_crossentropy', optimizer='adam', metrics=['accuracy'])"
   ]
  },
  {
   "cell_type": "code",
   "execution_count": 29,
   "metadata": {},
   "outputs": [
    {
     "name": "stdout",
     "output_type": "stream",
     "text": [
      "Train on 33600 samples, validate on 8400 samples\n",
      "Epoch 1/25\n",
      "33600/33600 [==============================] - 21s 618us/sample - loss: 0.2911 - acc: 0.9074 - val_loss: 0.1078 - val_acc: 0.9667\n",
      "Epoch 2/25\n",
      "33600/33600 [==============================] - 20s 608us/sample - loss: 0.0908 - acc: 0.9727 - val_loss: 0.0966 - val_acc: 0.9720\n",
      "Epoch 3/25\n",
      "33600/33600 [==============================] - 22s 640us/sample - loss: 0.0671 - acc: 0.9800 - val_loss: 0.0698 - val_acc: 0.9808\n",
      "Epoch 4/25\n",
      "33600/33600 [==============================] - 20s 596us/sample - loss: 0.0546 - acc: 0.9837 - val_loss: 0.0605 - val_acc: 0.9819\n",
      "Epoch 5/25\n",
      "33600/33600 [==============================] - 20s 598us/sample - loss: 0.0422 - acc: 0.9868 - val_loss: 0.0553 - val_acc: 0.9850\n",
      "Epoch 6/25\n",
      "33600/33600 [==============================] - 22s 669us/sample - loss: 0.0364 - acc: 0.9896 - val_loss: 0.0855 - val_acc: 0.9782\n",
      "Epoch 7/25\n",
      "33600/33600 [==============================] - 23s 684us/sample - loss: 0.0327 - acc: 0.9904 - val_loss: 0.0715 - val_acc: 0.9840\n",
      "Epoch 8/25\n",
      "33600/33600 [==============================] - 21s 635us/sample - loss: 0.0270 - acc: 0.9923 - val_loss: 0.0865 - val_acc: 0.9802\n",
      "Epoch 9/25\n",
      "33600/33600 [==============================] - 22s 644us/sample - loss: 0.0263 - acc: 0.9926 - val_loss: 0.0612 - val_acc: 0.9857\n",
      "Epoch 10/25\n",
      "33600/33600 [==============================] - 21s 629us/sample - loss: 0.0201 - acc: 0.9937 - val_loss: 0.0628 - val_acc: 0.9870\n",
      "Epoch 11/25\n",
      "33600/33600 [==============================] - 21s 610us/sample - loss: 0.0182 - acc: 0.9942 - val_loss: 0.0677 - val_acc: 0.9864\n",
      "Epoch 12/25\n",
      "33600/33600 [==============================] - 20s 601us/sample - loss: 0.0176 - acc: 0.9947 - val_loss: 0.0800 - val_acc: 0.9858\n",
      "Epoch 13/25\n",
      "33600/33600 [==============================] - 21s 623us/sample - loss: 0.0169 - acc: 0.9950 - val_loss: 0.0928 - val_acc: 0.9835\n",
      "Epoch 14/25\n",
      "33600/33600 [==============================] - 20s 602us/sample - loss: 0.0171 - acc: 0.9951 - val_loss: 0.0951 - val_acc: 0.9845\n",
      "Epoch 15/25\n",
      "33600/33600 [==============================] - 21s 636us/sample - loss: 0.0146 - acc: 0.9956 - val_loss: 0.0854 - val_acc: 0.9880\n",
      "Epoch 16/25\n",
      "33600/33600 [==============================] - 20s 592us/sample - loss: 0.0124 - acc: 0.9966 - val_loss: 0.0723 - val_acc: 0.9870\n",
      "Epoch 17/25\n",
      "33600/33600 [==============================] - 20s 584us/sample - loss: 0.0160 - acc: 0.9956 - val_loss: 0.0793 - val_acc: 0.9861\n",
      "Epoch 18/25\n",
      "33600/33600 [==============================] - 22s 656us/sample - loss: 0.0156 - acc: 0.9953 - val_loss: 0.0778 - val_acc: 0.9880\n",
      "Epoch 19/25\n",
      "33600/33600 [==============================] - 22s 650us/sample - loss: 0.0132 - acc: 0.9963 - val_loss: 0.0890 - val_acc: 0.9862\n",
      "Epoch 20/25\n",
      "33600/33600 [==============================] - 21s 628us/sample - loss: 0.0125 - acc: 0.9973 - val_loss: 0.0803 - val_acc: 0.9894\n",
      "Epoch 21/25\n",
      "33600/33600 [==============================] - 19s 578us/sample - loss: 0.0145 - acc: 0.9963 - val_loss: 0.0789 - val_acc: 0.9887\n",
      "Epoch 22/25\n",
      "33600/33600 [==============================] - 20s 598us/sample - loss: 0.0068 - acc: 0.9979 - val_loss: 0.0967 - val_acc: 0.9883\n",
      "Epoch 23/25\n",
      "33600/33600 [==============================] - 21s 611us/sample - loss: 0.0138 - acc: 0.9964 - val_loss: 0.0813 - val_acc: 0.9885\n",
      "Epoch 24/25\n",
      "33600/33600 [==============================] - 21s 632us/sample - loss: 0.0113 - acc: 0.9968 - val_loss: 0.0780 - val_acc: 0.9888\n",
      "Epoch 25/25\n",
      "33600/33600 [==============================] - 21s 612us/sample - loss: 0.0104 - acc: 0.9972 - val_loss: 0.0810 - val_acc: 0.9895\n"
     ]
    },
    {
     "data": {
      "text/plain": [
       "<tensorflow.python.keras.callbacks.History at 0x12aa01ef0>"
      ]
     },
     "execution_count": 29,
     "metadata": {},
     "output_type": "execute_result"
    }
   ],
   "source": [
    "model.fit(features, labels, batch_size=batch_size, epochs=epochs, validation_split=0.2)"
   ]
  },
  {
   "cell_type": "code",
   "execution_count": 30,
   "metadata": {},
   "outputs": [],
   "source": [
    "model.save('mnistNet.pt')"
   ]
  },
  {
   "cell_type": "code",
   "execution_count": 34,
   "metadata": {},
   "outputs": [],
   "source": [
    "pred=model.predict(test)"
   ]
  },
  {
   "cell_type": "code",
   "execution_count": 37,
   "metadata": {},
   "outputs": [
    {
     "name": "stdout",
     "output_type": "stream",
     "text": [
      "(28000, 10)\n"
     ]
    }
   ],
   "source": [
    "print(pred.shape)"
   ]
  },
  {
   "cell_type": "code",
   "execution_count": 39,
   "metadata": {},
   "outputs": [
    {
     "name": "stdout",
     "output_type": "stream",
     "text": [
      "[2 0 9 ... 3 9 2]\n"
     ]
    }
   ],
   "source": [
    "y = np.argmax(pred, axis=-1)\n",
    "print(y)"
   ]
  },
  {
   "cell_type": "code",
   "execution_count": 40,
   "metadata": {},
   "outputs": [],
   "source": [
    "prediction=pd.DataFrame(y, columns=['Label']).to_csv('Mnist.csv')"
   ]
  },
  {
   "cell_type": "code",
   "execution_count": null,
   "metadata": {},
   "outputs": [],
   "source": []
  }
 ],
 "metadata": {
  "kernelspec": {
   "display_name": "Python 3",
   "language": "python",
   "name": "python3"
  },
  "language_info": {
   "codemirror_mode": {
    "name": "ipython",
    "version": 3
   },
   "file_extension": ".py",
   "mimetype": "text/x-python",
   "name": "python",
   "nbconvert_exporter": "python",
   "pygments_lexer": "ipython3",
   "version": "3.7.3"
  }
 },
 "nbformat": 4,
 "nbformat_minor": 2
}
